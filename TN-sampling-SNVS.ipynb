{
 "cells": [
  {
   "cell_type": "code",
   "execution_count": 1,
   "metadata": {},
   "outputs": [
    {
     "name": "stdout",
     "output_type": "stream",
     "text": [
      "Requirement already satisfied: lxml in /home/franco/snap/jupyter/common/lib/python3.7/site-packages (4.6.3)\r\n"
     ]
    },
    {
     "name": "stderr",
     "output_type": "stream",
     "text": [
      "/home/franco/snap/jupyter/common/lib/python3.7/site-packages/joblib/_multiprocessing_helpers.py:45: UserWarning: [Errno 13] Permission denied.  joblib will operate in serial mode\n",
      "  warnings.warn('%s.  joblib will operate in serial mode' % (e,))\n"
     ]
    }
   ],
   "source": [
    "import sys\n",
    "!{sys.executable} -m pip install lxml\n",
    "import lxml\n",
    "import pandas as pd\n",
    "import random\n",
    "from sklearn.preprocessing import StandardScaler\n",
    "from sklearn.neighbors import NearestNeighbors\n",
    "from tqdm.notebook import tqdm\n",
    "tqdm.pandas()"
   ]
  },
  {
   "cell_type": "code",
   "execution_count": 2,
   "metadata": {},
   "outputs": [],
   "source": [
    "from patsy import dmatrices\n",
    "import statsmodels.api as sm\n",
    "import math\n",
    "\n",
    "def train_model(expr, sub_df,  verbose = False):\n",
    "    y_train, X_train = dmatrices(expr, sub_df, return_type='dataframe')\n",
    "    logit_model = sm.Logit(endog=y_train, exog=X_train)\n",
    "    logit_results = logit_model.fit()\n",
    "    if verbose: print(logit_results.summary())\n",
    "    coefs = dict(zip([\"Intercept\"] + parametros,logit_results.params.values))\n",
    "    conf_int = logit_results.conf_int(0.05).loc[out]\n",
    "    odds =  math.exp(coefs[out]*1)\n",
    "    lower_odds = math.exp(conf_int[1])\n",
    "    upper_odds = math.exp(conf_int[0])\n",
    "    \n",
    "    results_as_html = logit_results.summary().tables[0].as_html()\n",
    "    model_results_as_df = pd.read_html(results_as_html, header=0, index_col=0)[0]\n",
    "    results_as_html = logit_results.summary().tables[1].as_html()\n",
    "    model_results_as_df_2 = pd.read_html(results_as_html, header=0, index_col=0)[0]   \n",
    "    \n",
    "    return 1- odds, 1-lower_odds, 1-upper_odds, model_results_as_df, model_results_as_df_2"
   ]
  },
  {
   "cell_type": "code",
   "execution_count": 3,
   "metadata": {},
   "outputs": [],
   "source": [
    "def get_matching_pairs(treated_df, non_treated_df, scaler=True):\n",
    "    \"\"\"\n",
    "    Función de matcheo robada de https://stats.stackexchange.com/questions/206832/matched-pairs-in-python-propensity-score-matching \n",
    "    \"\"\"\n",
    "    treated_x = treated_df.values #Hay que sacar el ID?\n",
    "    non_treated_x = non_treated_df.values\n",
    "\n",
    "    if scaler == True:\n",
    "        scaler = StandardScaler()\n",
    "\n",
    "    if scaler:\n",
    "        scaler.fit(treated_x)\n",
    "        treated_x = scaler.transform(treated_x)\n",
    "        non_treated_x = scaler.transform(non_treated_x)\n",
    "\n",
    "    nbrs = NearestNeighbors(n_neighbors=1, algorithm='ball_tree').fit(non_treated_x)\n",
    "    distances, indices = nbrs.kneighbors(treated_x)\n",
    "    indices = indices.reshape(indices.shape[0])\n",
    "    matched = non_treated_df.iloc[indices]\n",
    "    return matched"
   ]
  },
  {
   "cell_type": "code",
   "execution_count": 4,
   "metadata": {},
   "outputs": [],
   "source": [
    "def run_test_negative(df, out = \"VACUNADO_AL_MENOS_UNA\"):\n",
    "\n",
    "    casos = df[df.CASO].copy()\n",
    "    controles = df[~df.CASO].copy()\n",
    "    controles_match = get_matching_pairs(casos,controles).copy()\n",
    "    casos[\"match\"] = range(len(casos))\n",
    "    controles_match[\"match\"] = range(len(controles_match))\n",
    "    casos[\"ID\"] = casos.index\n",
    "    controles_match[\"ID\"] = controles_match.index\n",
    "\n",
    "    # HORIZONTAL, PARA COMPARAR\n",
    "    df_sampleado_horizontal = casos.merge(controles_match, on = \"match\", suffixes= [\"_caso\",\"_control\"])\n",
    "    df_sampleado_horizontal\n",
    "    mismatch = list(df_sampleado_horizontal[df_sampleado_horizontal.DEPTO_CODE_caso != df_sampleado_horizontal.DEPTO_CODE_control].ID_caso)\n",
    "    mismatch = mismatch + list(df_sampleado_horizontal[df_sampleado_horizontal.DEPTO_CODE_caso != df_sampleado_horizontal.DEPTO_CODE_control].ID_control)\n",
    "\n",
    "    # VERTICAL\n",
    "    df_sampleado = casos.append(controles_match)\n",
    "    df_sampleado.drop(columns = [\"ID\"], inplace = True)\n",
    "\n",
    "    # UNA DOSIS\n",
    "    df_merged = df_sampleado.merge(vacunados_una_dosis[[\"ID\",\"FECHA_APLICACION\",\"LABORATORIO\"]], on = \"ID\", how = \"left\")\n",
    "    # DOS DOSIS\n",
    "    df_merged_dos = df_merged.merge(vacunados_dos_dosis[[\"ID\",\"FECHA_APLICACION_2\"]], on = \"ID\", how = \"left\")\n",
    "\n",
    "    df_merged_dos[\"FECHA_APLICACION\"] = pd.to_numeric(pd.to_datetime(df_merged_dos[\"FECHA_APLICACION\"]).dt.strftime(\"%Y%m%d\"), errors='coerce')\n",
    "    df_merged_dos[\"FECHA_APLICACION_2\"] = pd.to_numeric(pd.to_datetime(df_merged_dos[\"FECHA_APLICACION_2\"]).dt.strftime(\"%Y%m%d\"), errors='coerce')\n",
    "\n",
    "    STATUS = []\n",
    "    VACUNADO_COMPLETO = []\n",
    "    VACUNADO_UNA_DOSIS = []\n",
    "    VACUNADO_AL_MENOS_UNA = []\n",
    "    RECIEN_VACUNADO = []\n",
    "\n",
    "    for index, row in tqdm(df_merged_dos.iterrows(), total = len(df_merged)):\n",
    "        dif_a_primera_dosis = row.MIN_FTM  - row.FECHA_APLICACION\n",
    "        dif_a_segunda_dosis = row.MIN_FTM - row.FECHA_APLICACION_2\n",
    "\n",
    "        if dif_a_segunda_dosis > 14: #MÁS DE 14 DÍAS DE LA SEGUNDA DOSIS\n",
    "            STATUS.append(\"DOS DOSIS\")\n",
    "            VACUNADO_UNA_DOSIS.append(False)\n",
    "            VACUNADO_COMPLETO.append(True)\n",
    "            VACUNADO_AL_MENOS_UNA.append(True)\n",
    "            RECIEN_VACUNADO.append(False)  \n",
    "\n",
    "        elif dif_a_primera_dosis > 21: #MÁS DE 21 DÍAS DE LA PRIMERA Y MENOS O SIN 14 DÍAS DE LA SEGUNDA.\n",
    "            STATUS.append(\"UNA DOSIS\")\n",
    "            VACUNADO_UNA_DOSIS.append(True)\n",
    "            VACUNADO_COMPLETO.append(False)\n",
    "            VACUNADO_AL_MENOS_UNA.append(True)\n",
    "            RECIEN_VACUNADO.append(False)\n",
    "\n",
    "        elif dif_a_primera_dosis > 0:\n",
    "            STATUS.append(\"RECIEN VACUNADO\")\n",
    "            VACUNADO_UNA_DOSIS.append(False)\n",
    "            VACUNADO_COMPLETO.append(False)\n",
    "            VACUNADO_AL_MENOS_UNA.append(False)        \n",
    "            RECIEN_VACUNADO.append(True)\n",
    "\n",
    "        else:\n",
    "            STATUS.append(\"NO VACUNADO\")\n",
    "            VACUNADO_UNA_DOSIS.append(False)\n",
    "            VACUNADO_COMPLETO.append(False)\n",
    "            VACUNADO_AL_MENOS_UNA.append(False)\n",
    "            RECIEN_VACUNADO.append(False)\n",
    "\n",
    "\n",
    "    df_merged_dos[\"STATUS\"] = STATUS\n",
    "    df_merged_dos[\"VACUNADO_COMPLETO\"] = VACUNADO_COMPLETO\n",
    "    df_merged_dos[\"VACUNADO_UNA_DOSIS\"] = VACUNADO_UNA_DOSIS\n",
    "    df_merged_dos[\"VACUNADO_AL_MENOS_UNA\"] = VACUNADO_AL_MENOS_UNA\n",
    "    df_merged_dos[\"RECIEN_VACUNADO\"] = RECIEN_VACUNADO\n",
    "\n",
    "    df_input = df_merged_dos[[\"MUJER\",\"DEPTO_CODE\",\"EDAD\",\"CASO\",\"SIN_COMORB\",\n",
    "                              \"VACUNADO_COMPLETO\",\"VACUNADO_UNA_DOSIS\",\n",
    "                              \"VACUNADO_AL_MENOS_UNA\",\"RECIEN_VACUNADO\"]].copy()\n",
    "\n",
    "\n",
    "    for col in df_input.columns:\n",
    "        if df_input[col].dtype == bool:\n",
    "            df_input[col] = df_input[col].map({True:1, False:0})\n",
    "\n",
    "\n",
    "\n",
    "    variable = \"CASO\"\n",
    "\n",
    "    out = out\n",
    "\n",
    "    parametros = [out]\n",
    "\n",
    "    parametros_str = parametros[0]\n",
    "    for i in parametros[1:]: parametros_str += \" + \" + i\n",
    "    expr = variable + \" ~ \" + parametros_str \n",
    "\n",
    "\n",
    "\n",
    "    df_input_filtrado = df_input[df_input.RECIEN_VACUNADO == 0]\n",
    "\n",
    "    controles_a_excluir = {\"VACUNADO_COMPLETO\":\"VACUNADO_UNA_DOSIS\", \n",
    "                           \"VACUNADOS_UNA_DOSIS\":\"VACUNADO_COMPLETO\"}\n",
    "\n",
    "    if out in controles_a_excluir:\n",
    "        df_input_filtrado = df_input_filtrado[df_input_filtrado[controles_a_excluir[out]]==0]\n",
    "\n",
    "    ef, lower, upper, model_results_as_df,model_results_as_df_2 = train_model(expr, df_input_filtrado[[\"CASO\",parametros[0]]])\n",
    "    return ef, lower, upper, model_results_as_df,model_results_as_df_2"
   ]
  },
  {
   "cell_type": "code",
   "execution_count": 5,
   "metadata": {},
   "outputs": [],
   "source": [
    "df = pd.read_csv(\"snvs_casos.csv\", index_col = \"ID\")"
   ]
  },
  {
   "cell_type": "code",
   "execution_count": 6,
   "metadata": {},
   "outputs": [],
   "source": [
    "df = df[df.AMBA]"
   ]
  },
  {
   "cell_type": "code",
   "execution_count": 7,
   "metadata": {},
   "outputs": [
    {
     "name": "stdout",
     "output_type": "stream",
     "text": [
      "2245299\n",
      "1956089\n"
     ]
    }
   ],
   "source": [
    "print(len(df))\n",
    "df = df[~df.index.duplicated(keep='first')]\n",
    "print(len(df))"
   ]
  },
  {
   "cell_type": "code",
   "execution_count": 8,
   "metadata": {},
   "outputs": [],
   "source": [
    "df[\"DEPARTAMENTO_RESIDENCIA\"] = pd.Categorical(df.DEPARTAMENTO_RESIDENCIA)\n",
    "df['DEPTO_CODE'] = df.DEPARTAMENTO_RESIDENCIA.cat.codes"
   ]
  },
  {
   "cell_type": "code",
   "execution_count": 9,
   "metadata": {},
   "outputs": [],
   "source": [
    "df.drop(\"DEPARTAMENTO_RESIDENCIA\", axis = 1, inplace = True)"
   ]
  },
  {
   "cell_type": "code",
   "execution_count": 10,
   "metadata": {},
   "outputs": [],
   "source": [
    "df.drop(\"FALLECIDO\", axis = 1, inplace = True)"
   ]
  },
  {
   "cell_type": "code",
   "execution_count": 11,
   "metadata": {},
   "outputs": [
    {
     "name": "stderr",
     "output_type": "stream",
     "text": [
      "/snap/jupyter/6/lib/python3.7/site-packages/IPython/core/interactiveshell.py:3296: DtypeWarning: Columns (0) have mixed types.Specify dtype option on import or set low_memory=False.\n",
      "  exec(code_obj, self.user_global_ns, self.user_ns)\n"
     ]
    }
   ],
   "source": [
    "vacunados_una_dosis = pd.read_csv(\"nro_dosis_1.csv\", header = None)\n",
    "vacunados_una_dosis.columns = [\"DNI\",\"SEXO\",\"FECHA_APLICACION\",\"LABORATORIO\"]\n",
    "vacunados_una_dosis[\"ID\"] = vacunados_una_dosis.DNI.astype(str) + \"_\" + vacunados_una_dosis.SEXO"
   ]
  },
  {
   "cell_type": "code",
   "execution_count": 12,
   "metadata": {},
   "outputs": [],
   "source": [
    "vacunados_dos_dosis = pd.read_csv(\"nro_dosis_2.csv\", header = None)\n",
    "vacunados_dos_dosis.columns = [\"DNI\",\"SEXO\",\"FECHA_APLICACION_2\"]\n",
    "vacunados_dos_dosis[\"ID\"] = vacunados_dos_dosis.DNI.astype(str) + \"_\" + vacunados_dos_dosis.SEXO"
   ]
  },
  {
   "cell_type": "code",
   "execution_count": 13,
   "metadata": {},
   "outputs": [],
   "source": [
    "df = df[~df.EDAD.isnull()]"
   ]
  },
  {
   "cell_type": "code",
   "execution_count": 14,
   "metadata": {},
   "outputs": [
    {
     "name": "stderr",
     "output_type": "stream",
     "text": [
      "/snap/jupyter/6/lib/python3.7/site-packages/ipykernel_launcher.py:1: FutureWarning: Series.dt.weekofyear and Series.dt.week have been deprecated.  Please use Series.dt.isocalendar().week instead.\n",
      "  \"\"\"Entry point for launching an IPython kernel.\n"
     ]
    }
   ],
   "source": [
    "df[\"SEMANA\"] = pd.to_datetime(df['MIN_FTM'], format = \"%Y%m%d\").dt.week\n",
    "df.loc[df.SEMANA == 53, \"SEMANA\"] = 1"
   ]
  },
  {
   "cell_type": "code",
   "execution_count": 15,
   "metadata": {},
   "outputs": [],
   "source": [
    "#df = df[df.MIN_FTM > 20210705]"
   ]
  },
  {
   "cell_type": "code",
   "execution_count": 16,
   "metadata": {},
   "outputs": [
    {
     "data": {
      "application/vnd.jupyter.widget-view+json": {
       "model_id": "2822e7d4061a4d0e9ee740a24792cf85",
       "version_major": 2,
       "version_minor": 0
      },
      "text/plain": [
       "  0%|          | 0/27 [00:00<?, ?it/s]"
      ]
     },
     "metadata": {},
     "output_type": "display_data"
    },
    {
     "data": {
      "application/vnd.jupyter.widget-view+json": {
       "model_id": "af4b052d4b2b4b1aaecb36ae430b3343",
       "version_major": 2,
       "version_minor": 0
      },
      "text/plain": [
       "  0%|          | 0/39615 [00:00<?, ?it/s]"
      ]
     },
     "metadata": {},
     "output_type": "display_data"
    },
    {
     "name": "stdout",
     "output_type": "stream",
     "text": [
      "Optimization terminated successfully.\n",
      "         Current function value: 0.693146\n",
      "         Iterations 3\n",
      "Semana: 1 || Ef: 0.11 (-1.30-0.66)\n"
     ]
    },
    {
     "data": {
      "application/vnd.jupyter.widget-view+json": {
       "model_id": "75b33088f2f747f78c77299e0b9b7587",
       "version_major": 2,
       "version_minor": 0
      },
      "text/plain": [
       "  0%|          | 0/29657 [00:00<?, ?it/s]"
      ]
     },
     "metadata": {},
     "output_type": "display_data"
    },
    {
     "name": "stdout",
     "output_type": "stream",
     "text": [
      "Optimization terminated successfully.\n",
      "         Current function value: 0.693128\n",
      "         Iterations 4\n",
      "Semana: 2 || Ef: 0.44 (-0.66-0.81)\n"
     ]
    },
    {
     "data": {
      "application/vnd.jupyter.widget-view+json": {
       "model_id": "667f14432f954b29824831a6c82f721e",
       "version_major": 2,
       "version_minor": 0
      },
      "text/plain": [
       "  0%|          | 0/27502 [00:00<?, ?it/s]"
      ]
     },
     "metadata": {},
     "output_type": "display_data"
    },
    {
     "name": "stdout",
     "output_type": "stream",
     "text": [
      "Optimization terminated successfully.\n",
      "         Current function value: 0.693104\n",
      "         Iterations 5\n",
      "Semana: 3 || Ef: 0.63 (-0.41-0.90)\n"
     ]
    },
    {
     "data": {
      "application/vnd.jupyter.widget-view+json": {
       "model_id": "c8fb24490bd2460290cf8a997ea32960",
       "version_major": 2,
       "version_minor": 0
      },
      "text/plain": [
       "  0%|          | 0/26235 [00:00<?, ?it/s]"
      ]
     },
     "metadata": {},
     "output_type": "display_data"
    },
    {
     "name": "stdout",
     "output_type": "stream",
     "text": [
      "Optimization terminated successfully.\n",
      "         Current function value: 0.693146\n",
      "         Iterations 3\n",
      "Semana: 4 || Ef: 0.07 (-0.93-0.55)\n"
     ]
    },
    {
     "data": {
      "application/vnd.jupyter.widget-view+json": {
       "model_id": "8b5ccffef69048c5b3b13e5b7399ebcf",
       "version_major": 2,
       "version_minor": 0
      },
      "text/plain": [
       "  0%|          | 0/22650 [00:00<?, ?it/s]"
      ]
     },
     "metadata": {},
     "output_type": "display_data"
    },
    {
     "name": "stdout",
     "output_type": "stream",
     "text": [
      "Optimization terminated successfully.\n",
      "         Current function value: 0.692958\n",
      "         Iterations 4\n",
      "Semana: 5 || Ef: 0.38 (0.14-0.55)\n"
     ]
    },
    {
     "data": {
      "application/vnd.jupyter.widget-view+json": {
       "model_id": "e733ffa2e75f47e39e6fc09fe85b0d36",
       "version_major": 2,
       "version_minor": 0
      },
      "text/plain": [
       "  0%|          | 0/20776 [00:00<?, ?it/s]"
      ]
     },
     "metadata": {},
     "output_type": "display_data"
    },
    {
     "name": "stdout",
     "output_type": "stream",
     "text": [
      "Optimization terminated successfully.\n",
      "         Current function value: 0.692922\n",
      "         Iterations 4\n",
      "Semana: 6 || Ef: 0.41 (0.17-0.58)\n"
     ]
    },
    {
     "data": {
      "application/vnd.jupyter.widget-view+json": {
       "model_id": "d9f1beb3226542b79c57cb8f8ca40aee",
       "version_major": 2,
       "version_minor": 0
      },
      "text/plain": [
       "  0%|          | 0/19515 [00:00<?, ?it/s]"
      ]
     },
     "metadata": {},
     "output_type": "display_data"
    },
    {
     "name": "stdout",
     "output_type": "stream",
     "text": [
      "Optimization terminated successfully.\n",
      "         Current function value: 0.692573\n",
      "         Iterations 5\n",
      "Semana: 7 || Ef: 0.60 (0.41-0.74)\n"
     ]
    },
    {
     "data": {
      "application/vnd.jupyter.widget-view+json": {
       "model_id": "34f2b8e6c7f541dbaa689f1d37bd472d",
       "version_major": 2,
       "version_minor": 0
      },
      "text/plain": [
       "  0%|          | 0/20746 [00:00<?, ?it/s]"
      ]
     },
     "metadata": {},
     "output_type": "display_data"
    },
    {
     "name": "stdout",
     "output_type": "stream",
     "text": [
      "Optimization terminated successfully.\n",
      "         Current function value: 0.692217\n",
      "         Iterations 5\n",
      "Semana: 8 || Ef: 0.73 (0.57-0.83)\n"
     ]
    },
    {
     "data": {
      "application/vnd.jupyter.widget-view+json": {
       "model_id": "6fea51c142974284a65d8c93a02f0793",
       "version_major": 2,
       "version_minor": 0
      },
      "text/plain": [
       "  0%|          | 0/23098 [00:00<?, ?it/s]"
      ]
     },
     "metadata": {},
     "output_type": "display_data"
    },
    {
     "name": "stdout",
     "output_type": "stream",
     "text": [
      "Optimization terminated successfully.\n",
      "         Current function value: 0.692971\n",
      "         Iterations 4\n",
      "Semana: 9 || Ef: 0.26 (0.09-0.40)\n"
     ]
    },
    {
     "data": {
      "application/vnd.jupyter.widget-view+json": {
       "model_id": "a84ac709243a4549bf8a359242b834e8",
       "version_major": 2,
       "version_minor": 0
      },
      "text/plain": [
       "  0%|          | 0/25769 [00:00<?, ?it/s]"
      ]
     },
     "metadata": {},
     "output_type": "display_data"
    },
    {
     "name": "stdout",
     "output_type": "stream",
     "text": [
      "Optimization terminated successfully.\n",
      "         Current function value: 0.692715\n",
      "         Iterations 4\n",
      "Semana: 10 || Ef: 0.37 (0.23-0.48)\n"
     ]
    },
    {
     "data": {
      "application/vnd.jupyter.widget-view+json": {
       "model_id": "0135e5033548447faa46251988f1346f",
       "version_major": 2,
       "version_minor": 0
      },
      "text/plain": [
       "  0%|          | 0/29610 [00:00<?, ?it/s]"
      ]
     },
     "metadata": {},
     "output_type": "display_data"
    },
    {
     "name": "stdout",
     "output_type": "stream",
     "text": [
      "Optimization terminated successfully.\n",
      "         Current function value: 0.691903\n",
      "         Iterations 4\n",
      "Semana: 11 || Ef: 0.54 (0.45-0.62)\n"
     ]
    },
    {
     "data": {
      "application/vnd.jupyter.widget-view+json": {
       "model_id": "a65a1313dfba4ad68aa44a9ba5118db6",
       "version_major": 2,
       "version_minor": 0
      },
      "text/plain": [
       "  0%|          | 0/46645 [00:00<?, ?it/s]"
      ]
     },
     "metadata": {},
     "output_type": "display_data"
    },
    {
     "name": "stdout",
     "output_type": "stream",
     "text": [
      "Optimization terminated successfully.\n",
      "         Current function value: 0.691894\n",
      "         Iterations 4\n",
      "Semana: 12 || Ef: 0.48 (0.41-0.54)\n"
     ]
    },
    {
     "data": {
      "application/vnd.jupyter.widget-view+json": {
       "model_id": "2d5935260f034e689505420777d8372d",
       "version_major": 2,
       "version_minor": 0
      },
      "text/plain": [
       "  0%|          | 0/73242 [00:00<?, ?it/s]"
      ]
     },
     "metadata": {},
     "output_type": "display_data"
    },
    {
     "name": "stdout",
     "output_type": "stream",
     "text": [
      "Optimization terminated successfully.\n",
      "         Current function value: 0.691849\n",
      "         Iterations 4\n",
      "Semana: 13 || Ef: 0.35 (0.31-0.39)\n"
     ]
    },
    {
     "data": {
      "application/vnd.jupyter.widget-view+json": {
       "model_id": "9b64b22c901342c4ad6903fecb348ed8",
       "version_major": 2,
       "version_minor": 0
      },
      "text/plain": [
       "  0%|          | 0/112896 [00:00<?, ?it/s]"
      ]
     },
     "metadata": {},
     "output_type": "display_data"
    },
    {
     "name": "stdout",
     "output_type": "stream",
     "text": [
      "Optimization terminated successfully.\n",
      "         Current function value: 0.691727\n",
      "         Iterations 4\n",
      "Semana: 14 || Ef: 0.33 (0.30-0.36)\n"
     ]
    },
    {
     "data": {
      "application/vnd.jupyter.widget-view+json": {
       "model_id": "e8866f5d271e410baacdb054f269e22d",
       "version_major": 2,
       "version_minor": 0
      },
      "text/plain": [
       "  0%|          | 0/110337 [00:00<?, ?it/s]"
      ]
     },
     "metadata": {},
     "output_type": "display_data"
    },
    {
     "name": "stdout",
     "output_type": "stream",
     "text": [
      "Optimization terminated successfully.\n",
      "         Current function value: 0.691298\n",
      "         Iterations 4\n",
      "Semana: 15 || Ef: 0.36 (0.33-0.39)\n"
     ]
    },
    {
     "data": {
      "application/vnd.jupyter.widget-view+json": {
       "model_id": "8296d449bbcf40a69959c1cea1578c09",
       "version_major": 2,
       "version_minor": 0
      },
      "text/plain": [
       "  0%|          | 0/103248 [00:00<?, ?it/s]"
      ]
     },
     "metadata": {},
     "output_type": "display_data"
    },
    {
     "name": "stdout",
     "output_type": "stream",
     "text": [
      "Optimization terminated successfully.\n",
      "         Current function value: 0.691066\n",
      "         Iterations 4\n",
      "Semana: 16 || Ef: 0.38 (0.35-0.41)\n"
     ]
    },
    {
     "data": {
      "application/vnd.jupyter.widget-view+json": {
       "model_id": "0f65fba6b22d403e9e91a10c3b60ad7b",
       "version_major": 2,
       "version_minor": 0
      },
      "text/plain": [
       "  0%|          | 0/80572 [00:00<?, ?it/s]"
      ]
     },
     "metadata": {},
     "output_type": "display_data"
    },
    {
     "name": "stdout",
     "output_type": "stream",
     "text": [
      "Optimization terminated successfully.\n",
      "         Current function value: 0.691795\n",
      "         Iterations 4\n",
      "Semana: 17 || Ef: 0.30 (0.26-0.33)\n"
     ]
    },
    {
     "data": {
      "application/vnd.jupyter.widget-view+json": {
       "model_id": "ca3b32ee1ed141f0b1286203eb05c6c0",
       "version_major": 2,
       "version_minor": 0
      },
      "text/plain": [
       "  0%|          | 0/74909 [00:00<?, ?it/s]"
      ]
     },
     "metadata": {},
     "output_type": "display_data"
    },
    {
     "name": "stdout",
     "output_type": "stream",
     "text": [
      "Optimization terminated successfully.\n",
      "         Current function value: 0.692552\n",
      "         Iterations 3\n",
      "Semana: 18 || Ef: 0.18 (0.15-0.21)\n"
     ]
    },
    {
     "data": {
      "application/vnd.jupyter.widget-view+json": {
       "model_id": "2f9f4495eef44dcdb8033ec5e79ccce1",
       "version_major": 2,
       "version_minor": 0
      },
      "text/plain": [
       "  0%|          | 0/80778 [00:00<?, ?it/s]"
      ]
     },
     "metadata": {},
     "output_type": "display_data"
    },
    {
     "name": "stdout",
     "output_type": "stream",
     "text": [
      "Optimization terminated successfully.\n",
      "         Current function value: 0.692625\n",
      "         Iterations 3\n",
      "Semana: 19 || Ef: 0.17 (0.13-0.20)\n"
     ]
    },
    {
     "data": {
      "application/vnd.jupyter.widget-view+json": {
       "model_id": "9e3f98874871445e9cc05e9159806cb2",
       "version_major": 2,
       "version_minor": 0
      },
      "text/plain": [
       "  0%|          | 0/97233 [00:00<?, ?it/s]"
      ]
     },
     "metadata": {},
     "output_type": "display_data"
    },
    {
     "name": "stdout",
     "output_type": "stream",
     "text": [
      "Optimization terminated successfully.\n",
      "         Current function value: 0.692367\n",
      "         Iterations 4\n",
      "Semana: 20 || Ef: 0.20 (0.17-0.23)\n"
     ]
    },
    {
     "data": {
      "application/vnd.jupyter.widget-view+json": {
       "model_id": "9550e016c93040d59b6f4a20d796ac0e",
       "version_major": 2,
       "version_minor": 0
      },
      "text/plain": [
       "  0%|          | 0/85121 [00:00<?, ?it/s]"
      ]
     },
     "metadata": {},
     "output_type": "display_data"
    },
    {
     "name": "stdout",
     "output_type": "stream",
     "text": [
      "Optimization terminated successfully.\n",
      "         Current function value: 0.691541\n",
      "         Iterations 4\n",
      "Semana: 21 || Ef: 0.27 (0.24-0.30)\n"
     ]
    },
    {
     "data": {
      "application/vnd.jupyter.widget-view+json": {
       "model_id": "f532e1e1563940989e0652016b7038c0",
       "version_major": 2,
       "version_minor": 0
      },
      "text/plain": [
       "  0%|          | 0/73155 [00:00<?, ?it/s]"
      ]
     },
     "metadata": {},
     "output_type": "display_data"
    },
    {
     "name": "stdout",
     "output_type": "stream",
     "text": [
      "Optimization terminated successfully.\n",
      "         Current function value: 0.692322\n",
      "         Iterations 3\n",
      "Semana: 22 || Ef: 0.19 (0.16-0.22)\n"
     ]
    },
    {
     "data": {
      "application/vnd.jupyter.widget-view+json": {
       "model_id": "3a80253f5ea343f4b70528d0f4656a36",
       "version_major": 2,
       "version_minor": 0
      },
      "text/plain": [
       "  0%|          | 0/62236 [00:00<?, ?it/s]"
      ]
     },
     "metadata": {},
     "output_type": "display_data"
    },
    {
     "name": "stdout",
     "output_type": "stream",
     "text": [
      "Optimization terminated successfully.\n",
      "         Current function value: 0.692247\n",
      "         Iterations 3\n",
      "Semana: 23 || Ef: 0.19 (0.16-0.22)\n"
     ]
    },
    {
     "data": {
      "application/vnd.jupyter.widget-view+json": {
       "model_id": "2e0314f5eee448ffa6f051513b24649f",
       "version_major": 2,
       "version_minor": 0
      },
      "text/plain": [
       "  0%|          | 0/48894 [00:00<?, ?it/s]"
      ]
     },
     "metadata": {},
     "output_type": "display_data"
    },
    {
     "name": "stdout",
     "output_type": "stream",
     "text": [
      "Optimization terminated successfully.\n",
      "         Current function value: 0.692123\n",
      "         Iterations 4\n",
      "Semana: 24 || Ef: 0.19 (0.16-0.23)\n"
     ]
    },
    {
     "data": {
      "application/vnd.jupyter.widget-view+json": {
       "model_id": "83435f507ba14b3a954694c15594eba9",
       "version_major": 2,
       "version_minor": 0
      },
      "text/plain": [
       "  0%|          | 0/48114 [00:00<?, ?it/s]"
      ]
     },
     "metadata": {},
     "output_type": "display_data"
    },
    {
     "name": "stdout",
     "output_type": "stream",
     "text": [
      "Optimization terminated successfully.\n",
      "         Current function value: 0.691044\n",
      "         Iterations 4\n",
      "Semana: 25 || Ef: 0.26 (0.23-0.30)\n"
     ]
    },
    {
     "data": {
      "application/vnd.jupyter.widget-view+json": {
       "model_id": "910acad4edf14595b42a1fef1839ca6a",
       "version_major": 2,
       "version_minor": 0
      },
      "text/plain": [
       "  0%|          | 0/40418 [00:00<?, ?it/s]"
      ]
     },
     "metadata": {},
     "output_type": "display_data"
    },
    {
     "name": "stdout",
     "output_type": "stream",
     "text": [
      "Optimization terminated successfully.\n",
      "         Current function value: 0.691566\n",
      "         Iterations 3\n",
      "Semana: 26 || Ef: 0.21 (0.18-0.25)\n"
     ]
    },
    {
     "data": {
      "application/vnd.jupyter.widget-view+json": {
       "model_id": "814aa954d82241d2afce16f335e6809e",
       "version_major": 2,
       "version_minor": 0
      },
      "text/plain": [
       "  0%|          | 0/26489 [00:00<?, ?it/s]"
      ]
     },
     "metadata": {},
     "output_type": "display_data"
    },
    {
     "name": "stdout",
     "output_type": "stream",
     "text": [
      "Optimization terminated successfully.\n",
      "         Current function value: 0.692239\n",
      "         Iterations 3\n",
      "Semana: 27 || Ef: 0.16 (0.12-0.20)\n"
     ]
    }
   ],
   "source": [
    "res = pd.DataFrame()\n",
    "\n",
    "for week in tqdm(set(df.SEMANA)):\n",
    "    sub_df = df[df.SEMANA == week]\n",
    "    out = \"VACUNADO_AL_MENOS_UNA\"\n",
    "    parametros = [out]\n",
    "\n",
    "    ef, lower, upper, model_results_as_df,model_results_as_df_2 = run_test_negative(df = sub_df, out = out)\n",
    "    res = res.append({\"SEMANA\":week, \"ef\":ef,\"lower\":lower, \"upper\":upper}, ignore_index = True)\n",
    "    print(\"Semana: {} || Ef: {:.2f} ({:.2f}-{:.2f})\".format(week,ef,lower,upper))"
   ]
  },
  {
   "cell_type": "code",
   "execution_count": 18,
   "metadata": {},
   "outputs": [],
   "source": [
    "res.to_csv(\"indicador_efectividad.csv\", index = None)"
   ]
  },
  {
   "cell_type": "code",
   "execution_count": null,
   "metadata": {},
   "outputs": [],
   "source": []
  }
 ],
 "metadata": {
  "kernelspec": {
   "display_name": "Python 3",
   "language": "python",
   "name": "python3"
  },
  "language_info": {
   "codemirror_mode": {
    "name": "ipython",
    "version": 3
   },
   "file_extension": ".py",
   "mimetype": "text/x-python",
   "name": "python",
   "nbconvert_exporter": "python",
   "pygments_lexer": "ipython3",
   "version": "3.7.3"
  }
 },
 "nbformat": 4,
 "nbformat_minor": 4
}
